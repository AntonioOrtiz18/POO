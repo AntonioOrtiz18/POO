{
  "nbformat": 4,
  "nbformat_minor": 0,
  "metadata": {
    "colab": {
      "provenance": []
    },
    "kernelspec": {
      "name": "python3",
      "display_name": "Python 3"
    },
    "language_info": {
      "name": "python"
    }
  },
  "cells": [
    {
      "cell_type": "markdown",
      "source": [
        "## Condiciones\n"
      ],
      "metadata": {
        "id": "2mdS5BAkZgz7"
      }
    },
    {
      "cell_type": "code",
      "execution_count": null,
      "metadata": {
        "colab": {
          "base_uri": "https://localhost:8080/"
        },
        "id": "IfsiOeIbY9j5",
        "outputId": "94999c42-6c0b-4137-fbf9-044b08ef2462"
      },
      "outputs": [
        {
          "output_type": "stream",
          "name": "stdout",
          "text": [
            "El número es par y mayor a 10\n"
          ]
        }
      ],
      "source": [
        "# Ejemplo\n",
        "x=34\n",
        "if x % 2== 0:\n",
        "  if x>10:\n",
        "    print(\"El número es par y mayor a 10\")\n",
        "  else:\n",
        "    print(\"El número es par y menor a 10\")\n",
        "else:\n",
        "    print(\"El número es impar\")"
      ]
    },
    {
      "cell_type": "code",
      "source": [],
      "metadata": {
        "id": "FFXJX9N3aCw3"
      },
      "execution_count": null,
      "outputs": []
    }
  ]
}