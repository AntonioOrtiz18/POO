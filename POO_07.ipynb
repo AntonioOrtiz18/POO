{
  "nbformat": 4,
  "nbformat_minor": 0,
  "metadata": {
    "colab": {
      "provenance": []
    },
    "kernelspec": {
      "name": "python3",
      "display_name": "Python 3"
    },
    "language_info": {
      "name": "python"
    }
  },
  "cells": [
    {
      "cell_type": "markdown",
      "source": [
        "#Condicionales: If....elif....else"
      ],
      "metadata": {
        "id": "fOyWVHg2cCLG"
      }
    },
    {
      "cell_type": "markdown",
      "source": [
        "###Ejemplo 1\n"
      ],
      "metadata": {
        "id": "buYKq6kmdUio"
      }
    },
    {
      "cell_type": "code",
      "source": [
        "letra= \"A\"\n",
        "if letra == \"B\":\n",
        "  print(\"La letra es B\")\n",
        "elif letra == \"C\":\n",
        "  print(\"La letra es C\")\n",
        "elif letra == \"A\":\n",
        "  print(\"La letra es A\")\n",
        "else:\n",
        "  print(\"La letra no es A ni B ni C\")"
      ],
      "metadata": {
        "colab": {
          "base_uri": "https://localhost:8080/"
        },
        "id": "iau4CVxQcH9-",
        "outputId": "56bd6c68-3e2a-415f-ce5e-c582473d5fbf"
      },
      "execution_count": null,
      "outputs": [
        {
          "output_type": "stream",
          "name": "stdout",
          "text": [
            "La letra es A\n"
          ]
        }
      ]
    },
    {
      "cell_type": "markdown",
      "source": [
        "###Ejemplo 2"
      ],
      "metadata": {
        "id": "D1NsqFwldbTj"
      }
    },
    {
      "cell_type": "code",
      "source": [
        "numero=int(input(\"Escribe un número: \"))\n",
        "if numero % 2==0 and numero % 4!=0:\n",
        "  print(f\"{numero} es múltiplo de 2\")\n",
        "elif numero%4==0:\n",
        "  print(f\"{numero} es múltiplo de 4 y de 2\")\n",
        "else:\n",
        "  print(f\"{numero} no es múltiplo de 2\")\n",
        "\n"
      ],
      "metadata": {
        "colab": {
          "base_uri": "https://localhost:8080/"
        },
        "id": "vjWnMdetd9Ay",
        "outputId": "6e9210ec-d494-4b45-aff4-cb74af022c96"
      },
      "execution_count": null,
      "outputs": [
        {
          "output_type": "stream",
          "name": "stdout",
          "text": [
            "Escribe un número: 8\n",
            "8 es múltiplo de 4 y de 2\n"
          ]
        }
      ]
    },
    {
      "cell_type": "code",
      "source": [
        "numero=float(input(\"Escribe un número del 1 al 10: \"))\n",
        "if numero >=8 and numero <=10:\n",
        "  print(\"con la calificación de \" f\"{numero} tienes derecho a beca\")\n",
        "elif numero >=6 and numero < 8:\n",
        "  print(\"con la calificación de \" f\"{numero} no tienes derecho a beca, pero estás aprobado\")\n",
        "elif numero <6:\n",
        "  print(\"con la calificación de \" f\"{numero} no tienes derecho a beca ni estás aprobado\")\n",
        "else:\n",
        "  print(\"el número ingresado no es válido\")"
      ],
      "metadata": {
        "colab": {
          "base_uri": "https://localhost:8080/"
        },
        "id": "P-nAMuEZf-f8",
        "outputId": "718d6c2e-ce2f-4450-d333-0a7a952987c8"
      },
      "execution_count": null,
      "outputs": [
        {
          "output_type": "stream",
          "name": "stdout",
          "text": [
            "Escribe un número del 1 al 10: 6.1\n",
            "con la calificación de 6.1 no tienes derecho a beca, pero estás aprobado\n"
          ]
        }
      ]
    },
    {
      "cell_type": "markdown",
      "source": [
        "#Clases y polimorfismos"
      ],
      "metadata": {
        "id": "hYwIjATjl9At"
      }
    },
    {
      "cell_type": "code",
      "source": [
        "class mascota:\n",
        "  def hable(self):\n",
        "    return NotImplementedError()\n",
        "class perro(mascota):\n",
        "  def hable(self):\n",
        "    return \"woof\"\n",
        "class gato(mascota):\n",
        "  def hable(self):\n",
        "    return \"miau\"\n",
        "\n"
      ],
      "metadata": {
        "id": "nryjnlmJjKTg"
      },
      "execution_count": null,
      "outputs": []
    },
    {
      "cell_type": "code",
      "source": [
        "#Vamos a crear una lista de mascotas\n",
        "mascotas=[perro(),gato()] #generador de objetos dentro de la clase"
      ],
      "metadata": {
        "id": "YXANe0Nxn8Ft"
      },
      "execution_count": null,
      "outputs": []
    },
    {
      "cell_type": "code",
      "source": [
        "for mascota in mascotas:\n",
        "  print(mascota.hable())"
      ],
      "metadata": {
        "colab": {
          "base_uri": "https://localhost:8080/"
        },
        "id": "2lblbxs7oX1G",
        "outputId": "699f660c-b4fb-4633-d0b6-aaf128320fdb"
      },
      "execution_count": null,
      "outputs": [
        {
          "output_type": "stream",
          "name": "stdout",
          "text": [
            "woof\n",
            "miau\n"
          ]
        }
      ]
    },
    {
      "cell_type": "code",
      "source": [
        "class persona:\n",
        "  def __init__(self, nombre, edad):\n",
        "    self.nombre= nombre\n",
        "    self.edad= edad"
      ],
      "metadata": {
        "id": "gR0pynE7oh27"
      },
      "execution_count": null,
      "outputs": []
    },
    {
      "cell_type": "code",
      "source": [
        "persona_1= persona(\"Daniela\", 21)"
      ],
      "metadata": {
        "id": "8w48eNonrXgx"
      },
      "execution_count": null,
      "outputs": []
    },
    {
      "cell_type": "code",
      "source": [
        "persona_1.nombre"
      ],
      "metadata": {
        "colab": {
          "base_uri": "https://localhost:8080/",
          "height": 36
        },
        "id": "bAwUCH6Grgx4",
        "outputId": "f1c568c5-479f-4754-f5a3-f03dae9a6d0c"
      },
      "execution_count": null,
      "outputs": [
        {
          "output_type": "execute_result",
          "data": {
            "text/plain": [
              "'Daniela'"
            ],
            "application/vnd.google.colaboratory.intrinsic+json": {
              "type": "string"
            }
          },
          "metadata": {},
          "execution_count": 32
        }
      ]
    },
    {
      "cell_type": "code",
      "source": [
        "persona_1.edad"
      ],
      "metadata": {
        "colab": {
          "base_uri": "https://localhost:8080/"
        },
        "id": "nMb4-HgWrpZG",
        "outputId": "2d46cb04-7f25-47ce-dbf5-81d76ecff7e0"
      },
      "execution_count": null,
      "outputs": [
        {
          "output_type": "execute_result",
          "data": {
            "text/plain": [
              "21"
            ]
          },
          "metadata": {},
          "execution_count": 33
        }
      ]
    },
    {
      "cell_type": "code",
      "source": [],
      "metadata": {
        "id": "ZyHgy1earvbO"
      },
      "execution_count": null,
      "outputs": []
    }
  ]
}