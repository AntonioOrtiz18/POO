{
  "nbformat": 4,
  "nbformat_minor": 0,
  "metadata": {
    "colab": {
      "provenance": []
    },
    "kernelspec": {
      "name": "python3",
      "display_name": "Python 3"
    },
    "language_info": {
      "name": "python"
    }
  },
  "cells": [
    {
      "cell_type": "markdown",
      "source": [
        "Regina Orozco\n",
        "\n",
        "Antonio Ortiz\n",
        "## Tarea\n",
        "### Instrucciones:\n",
        "\n",
        "\n",
        "*   La tarea se entrega individualmente.\n",
        "*   Leer los lineamientos e instrucciones que se enuentran en Moodle.\n",
        "*   Sube tu Notebook a tu GitHub\n",
        "*  La entrega se hace por Moodle compartiendo tu liga a GitHub.\n",
        "*  Fecha de entrega  **Martes 26 de septiembre antes de las 20:00hrs**\n",
        "*  Si existiera duda alguna, mandarlas por email.\n",
        "\n"
      ],
      "metadata": {
        "id": "-DR7LcQd27OM"
      }
    },
    {
      "cell_type": "code",
      "source": [
        "# Crea una clase que se llame Animal\n",
        "class Animal():\n",
        "# define un inicializador que contenga dos argumentos (a y b) que asignarás\n",
        "    def __init__(self,nombre,raza):\n",
        "# init es el iniciador\n",
        "        self.nombre=nombre\n",
        "        self.raza=raza\n",
        "\n",
        "# Crea una clase heredada que se llame Mascota\n",
        "class Mascota(Animal):\n",
        "    # usar super(), (objeto temporal de la superclase) nos permite acceder a métodos de la clase madre\n",
        "    # define tres métodos asociados a Mascota\n",
        "    def __init__(self):\n",
        "        super().__init__(self)\n",
        "        #el super ayuda a llamar a todas las clases madres\n",
        "        print(\"La clase ha sido creada\")\n",
        "\n",
        "    def nombre (self):\n",
        "      print(\"Me llamo benito\")\n",
        "\n",
        "    def raza(self):\n",
        "      print('Soy un poddle')\n",
        "\n",
        "    def edad(self):\n",
        "      print('Tengo 10 años')\n",
        "#Creamos las clases subordinadas de animal que se inicializan con la definición"
      ],
      "metadata": {
        "id": "scsnMvfv7MXN"
      },
      "execution_count": null,
      "outputs": []
    },
    {
      "cell_type": "code",
      "source": [
        "cursor = Animal(\"benito\", \"poodle\")\n",
        "cursor"
      ],
      "metadata": {
        "colab": {
          "base_uri": "https://localhost:8080/"
        },
        "id": "fL4UBXp85ioz",
        "outputId": "8c48d942-743a-451f-e403-6a6172ae13ae"
      },
      "execution_count": null,
      "outputs": [
        {
          "output_type": "execute_result",
          "data": {
            "text/plain": [
              "<__main__.Animal at 0x7c45793d7b20>"
            ]
          },
          "metadata": {},
          "execution_count": 2
        }
      ]
    },
    {
      "cell_type": "code",
      "source": [
        "cursor.raza"
      ],
      "metadata": {
        "colab": {
          "base_uri": "https://localhost:8080/",
          "height": 35
        },
        "id": "Vyo6Qg1t6KFj",
        "outputId": "a3da3704-99bb-4732-b1a8-c8770a4306c8"
      },
      "execution_count": null,
      "outputs": [
        {
          "output_type": "execute_result",
          "data": {
            "text/plain": [
              "'poodle'"
            ],
            "application/vnd.google.colaboratory.intrinsic+json": {
              "type": "string"
            }
          },
          "metadata": {},
          "execution_count": 3
        }
      ]
    },
    {
      "cell_type": "code",
      "source": [
        "# Crea dos clases que tengan asignados nombres de Países.\n",
        "# Para cada clase, define al menos tres características del País considerado: por ejemplo, capital, idioma, etcétera\n",
        "\n",
        "# Define dos variables que sean cursores\n",
        "\n",
        "#Primero crearemos las clases\n",
        "class pais1 ():\n",
        "   def __init__(self, pais, capital, idioma, continente):\n",
        "    self.pais=pais\n",
        "    self.capital=capital\n",
        "    self.idioma=idioma\n",
        "    self.continente=continente\n",
        "\n",
        "class pais2 ():\n",
        "   def __init__(self, pais, capital, idioma, continente):\n",
        "    self.pais=pais\n",
        "    self.capital=capital\n",
        "    self.idioma=idioma\n",
        "    self.continente=continente\n",
        "\n",
        "cursor1=pais1(\"Francia\",\"Paris\",\"Francés\",\"Europa\")\n",
        "cursor2=pais2(\"México\",\"Ciudad de México\",\"Español\",\"América\")\n",
        "\n",
        "# Comenta tus resultados"
      ],
      "metadata": {
        "id": "ZielRh0TBBEv"
      },
      "execution_count": null,
      "outputs": []
    },
    {
      "cell_type": "code",
      "execution_count": null,
      "metadata": {
        "id": "3d4VtN9D7FWB"
      },
      "outputs": [],
      "source": [
        "## Ejemplo de polimorfismo de clase y herencia.\n",
        "\n",
        "# Crea una clase madre que se llame Forma\n",
        "\n",
        "# Crea dos clases heredadas de la clase madre Forma que calcule el área y el perímetro de un círculo\n",
        "# y de un cuadrado, respectivamente.\n",
        "\n",
        "import math\n",
        "\n",
        "class Forma():\n",
        "  def __init__(self):\n",
        "    print(\"Clase forma creada\")\n",
        "\n",
        "class circulo(Forma):\n",
        "  def __init__(self,radio):\n",
        "    self.radio=radio\n",
        "\n",
        "  def area(self):\n",
        "    area=math.pi*self.radio**2\n",
        "    return area\n",
        "\n",
        "class cuadrado(Forma):\n",
        "  def __init__(self,lado):\n",
        "    self.lado=lado\n",
        "\n",
        "  def area(self):\n",
        "    area=self.lado**2\n",
        "    return area"
      ]
    },
    {
      "cell_type": "code",
      "source": [
        "forma = Forma()"
      ],
      "metadata": {
        "colab": {
          "base_uri": "https://localhost:8080/"
        },
        "id": "SqDrXdh37E2k",
        "outputId": "ef50fc2d-d7a5-4294-bbb6-f0ece27bf788"
      },
      "execution_count": null,
      "outputs": [
        {
          "output_type": "stream",
          "name": "stdout",
          "text": [
            "Clase forma creada\n"
          ]
        }
      ]
    },
    {
      "cell_type": "code",
      "source": [
        "circ = circulo(4)"
      ],
      "metadata": {
        "id": "7bUcl5Y87H_w"
      },
      "execution_count": null,
      "outputs": []
    },
    {
      "cell_type": "code",
      "source": [
        "circ.area()"
      ],
      "metadata": {
        "colab": {
          "base_uri": "https://localhost:8080/"
        },
        "id": "tCYesX-87gHu",
        "outputId": "cb5a4e7b-30a1-4c43-da11-ac644590f6bc"
      },
      "execution_count": null,
      "outputs": [
        {
          "output_type": "execute_result",
          "data": {
            "text/plain": [
              "50.26548245743669"
            ]
          },
          "metadata": {},
          "execution_count": 8
        }
      ]
    },
    {
      "cell_type": "code",
      "source": [
        "\n",
        "cuad=cuadrado(4)"
      ],
      "metadata": {
        "id": "7_vB-CV37iuE"
      },
      "execution_count": null,
      "outputs": []
    },
    {
      "cell_type": "code",
      "source": [
        "cuad.area()"
      ],
      "metadata": {
        "colab": {
          "base_uri": "https://localhost:8080/"
        },
        "id": "uXncNQJi-F2n",
        "outputId": "eebae9c5-5b63-43be-ef9e-4d8dab077088"
      },
      "execution_count": null,
      "outputs": [
        {
          "output_type": "execute_result",
          "data": {
            "text/plain": [
              "16"
            ]
          },
          "metadata": {},
          "execution_count": 10
        }
      ]
    },
    {
      "cell_type": "code",
      "source": [],
      "metadata": {
        "id": "LWuApbGO-GuM"
      },
      "execution_count": null,
      "outputs": []
    }
  ]
}