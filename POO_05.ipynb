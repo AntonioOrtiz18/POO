{
  "nbformat": 4,
  "nbformat_minor": 0,
  "metadata": {
    "colab": {
      "provenance": []
    },
    "kernelspec": {
      "name": "python3",
      "display_name": "Python 3"
    },
    "language_info": {
      "name": "python"
    }
  },
  "cells": [
    {
      "cell_type": "markdown",
      "source": [
        "# Clases, herencias y polimorfismos\n"
      ],
      "metadata": {
        "id": "lmcGii4Rj4Mu"
      }
    },
    {
      "cell_type": "markdown",
      "source": [
        "## Definiciones"
      ],
      "metadata": {
        "id": "X_A0J54_nfDr"
      }
    },
    {
      "cell_type": "code",
      "execution_count": null,
      "metadata": {
        "id": "5Rm9zGFgjyao"
      },
      "outputs": [],
      "source": [
        "# Vamos a crear una definición (que es una función integrada en Python)\n",
        "def suma(a,b,c):\n",
        "  x=a+b*c\n",
        "  return x"
      ]
    },
    {
      "cell_type": "code",
      "source": [
        "suma(1,2,3)"
      ],
      "metadata": {
        "colab": {
          "base_uri": "https://localhost:8080/"
        },
        "id": "1FaraiXao8wB",
        "outputId": "9cb3988d-bcba-46b6-fbf7-2095429848d1"
      },
      "execution_count": null,
      "outputs": [
        {
          "output_type": "execute_result",
          "data": {
            "text/plain": [
              "7"
            ]
          },
          "metadata": {},
          "execution_count": 9
        }
      ]
    },
    {
      "cell_type": "code",
      "source": [
        "# Vamos a crear una definición que calcule la inversa de una matriz\n",
        "def matriz_inv(M):\n",
        "  import numpy as np\n",
        "  x=np.linalg.inv(M)\n",
        "  return x"
      ],
      "metadata": {
        "id": "IpBT9ktjpQQD"
      },
      "execution_count": null,
      "outputs": []
    },
    {
      "cell_type": "code",
      "source": [
        "  np.random.seed(21)\n",
        "matriz= np.random.randint(1,20,size=(3,3))"
      ],
      "metadata": {
        "id": "gohAsdtjqzaq"
      },
      "execution_count": null,
      "outputs": []
    },
    {
      "cell_type": "code",
      "source": [
        "matriz_inv(matriz)"
      ],
      "metadata": {
        "colab": {
          "base_uri": "https://localhost:8080/"
        },
        "id": "9IxodmCQu3Ff",
        "outputId": "1bc4a243-7011-452d-9461-c9cf7d5d5c4f"
      },
      "execution_count": null,
      "outputs": [
        {
          "output_type": "execute_result",
          "data": {
            "text/plain": [
              "array([[-0.30666667,  0.22933333,  0.056     ],\n",
              "       [ 0.46666667, -0.25333333, -0.12      ],\n",
              "       [-0.68      ,  0.352     ,  0.272     ]])"
            ]
          },
          "metadata": {},
          "execution_count": 50
        }
      ]
    },
    {
      "cell_type": "code",
      "source": [
        "matriz"
      ],
      "metadata": {
        "colab": {
          "base_uri": "https://localhost:8080/"
        },
        "id": "fPJe3BPDy_2a",
        "outputId": "fab2e55c-af46-4be7-bcea-7b5796717ecd"
      },
      "execution_count": null,
      "outputs": [
        {
          "output_type": "execute_result",
          "data": {
            "text/plain": [
              "array([[10, 16,  5],\n",
              "       [17, 17,  4],\n",
              "       [ 3, 18, 11]])"
            ]
          },
          "metadata": {},
          "execution_count": 51
        }
      ]
    },
    {
      "cell_type": "code",
      "source": [
        "def matriz_det(M):\n",
        "  import numpy as np\n",
        "  x=np.linalg.det(M)\n",
        "  return x"
      ],
      "metadata": {
        "id": "9EpzsW5mv2L7"
      },
      "execution_count": null,
      "outputs": []
    },
    {
      "cell_type": "code",
      "source": [
        "\n",
        "matriz_det(matriz)"
      ],
      "metadata": {
        "colab": {
          "base_uri": "https://localhost:8080/"
        },
        "id": "2O7l8EKGxX24",
        "outputId": "0266f166-5355-4361-abe9-2ec8235de57c"
      },
      "execution_count": null,
      "outputs": [
        {
          "output_type": "execute_result",
          "data": {
            "text/plain": [
              "-374.99999999999994"
            ]
          },
          "metadata": {},
          "execution_count": 53
        }
      ]
    },
    {
      "cell_type": "code",
      "source": [
        "matriz.shape[0] #Coordenada de x de la matriz\n",
        "matriz.shape[1] #Coordenada de y de la matriz"
      ],
      "metadata": {
        "colab": {
          "base_uri": "https://localhost:8080/"
        },
        "id": "btwQ5zxsxb7B",
        "outputId": "9273e624-4492-422c-bd64-458ace8be2af"
      },
      "execution_count": null,
      "outputs": [
        {
          "output_type": "execute_result",
          "data": {
            "text/plain": [
              "3"
            ]
          },
          "metadata": {},
          "execution_count": 58
        }
      ]
    },
    {
      "cell_type": "code",
      "source": [],
      "metadata": {
        "id": "eDJ37a_Fz5f4"
      },
      "execution_count": null,
      "outputs": []
    }
  ]
}